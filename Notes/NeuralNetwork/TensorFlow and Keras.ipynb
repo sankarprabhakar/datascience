{
 "cells": [
  {
   "cell_type": "markdown",
   "id": "be6c039d",
   "metadata": {},
   "source": [
    "## TF and Keras\n",
    "\n",
    "Tensor flow is the neural network library developed by Google\n",
    "Keras is the interface developed by Fracois, Keras provide the high level APIs but backend is TensorFlow\n"
   ]
  },
  {
   "cell_type": "code",
   "execution_count": 2,
   "id": "1ae62452",
   "metadata": {},
   "outputs": [],
   "source": [
    "import numpy as np\n",
    "import matplotlib.pyplot as plt\n",
    "import tensorflow as tf\n",
    "from tensorflow.keras.layers import Dense,Input\n",
    "from tensorflow.keras import Sequential\n",
    "from tensorflow.keras.losses import MeanSquaredError, BinaryCrossentropy\n",
    "from tensorflow.keras.activations import sigmoid\n"
   ]
  },
  {
   "cell_type": "markdown",
   "id": "e1abbf3d",
   "metadata": {},
   "source": [
    "##  Implement Regression using Neural Network"
   ]
  },
  {
   "cell_type": "code",
   "execution_count": 3,
   "id": "b48b2e87",
   "metadata": {},
   "outputs": [],
   "source": [
    "X_train = np.array([[1.0], [2.0]], dtype=np.float32)           #(size in 1000 square feet)\n",
    "Y_train = np.array([[300.0], [500.0]], dtype=np.float32)       #(price in 1000s of dollars)"
   ]
  },
  {
   "cell_type": "markdown",
   "id": "466ba463",
   "metadata": {},
   "source": [
    "## We can use neuron with linear activation to get for linear regression "
   ]
  },
  {
   "cell_type": "code",
   "execution_count": 4,
   "id": "eab2349e",
   "metadata": {},
   "outputs": [
    {
     "data": {
      "text/plain": [
       "[]"
      ]
     },
     "execution_count": 4,
     "metadata": {},
     "output_type": "execute_result"
    }
   ],
   "source": [
    "linear_neuron = tf.keras.layers.Dense(units=1, activation='linear')\n",
    "linear_neuron.get_weights()"
   ]
  },
  {
   "cell_type": "code",
   "execution_count": 7,
   "id": "3fd2d80a",
   "metadata": {},
   "outputs": [
    {
     "name": "stdout",
     "output_type": "stream",
     "text": [
      "tf.Tensor([[0.37437093]], shape=(1, 1), dtype=float32)\n"
     ]
    }
   ],
   "source": [
    "a1 = linear_neuron(X_train[0].reshape(1,1))\n",
    "print(a1)"
   ]
  },
  {
   "cell_type": "code",
   "execution_count": 8,
   "id": "69b17043",
   "metadata": {},
   "outputs": [],
   "source": [
    "## set weights to w=200 and x =100\n",
    "w = np.array([[200]])\n",
    "b = np.array([100])\n",
    "linear_neuron.set_weights([w,b])"
   ]
  },
  {
   "cell_type": "code",
   "execution_count": 9,
   "id": "a7808738",
   "metadata": {},
   "outputs": [
    {
     "name": "stdout",
     "output_type": "stream",
     "text": [
      "tf.Tensor([[300.]], shape=(1, 1), dtype=float32)\n"
     ]
    }
   ],
   "source": [
    "## Let us to get the result from the linear neuron\n",
    "a1 = linear_neuron(X_train[0].reshape(1,1))\n",
    "print(a1)"
   ]
  },
  {
   "cell_type": "markdown",
   "id": "3e6e2965",
   "metadata": {},
   "source": [
    "## Neuron with Sigmoid function to get logistic regression "
   ]
  },
  {
   "cell_type": "markdown",
   "id": "6e4db947",
   "metadata": {},
   "source": [
    "Usually the neural network models are with multiple layers, we use the Sequencial model method to create multi layered model. Here we will try to create model with one layer one neuron"
   ]
  },
  {
   "cell_type": "code",
   "execution_count": 21,
   "id": "d7b750e5",
   "metadata": {},
   "outputs": [],
   "source": [
    "X_train = np.array([0., 1, 2, 3, 4, 5], dtype=np.float32).reshape(-1,1)  # 2-D Matrix\n",
    "Y_train = np.array([0,  0, 0, 1, 1, 1], dtype=np.float32).reshape(-1,1)  # 2-D Matrix"
   ]
  },
  {
   "cell_type": "code",
   "execution_count": 22,
   "id": "c260754b",
   "metadata": {},
   "outputs": [],
   "source": [
    "model = Sequential(\n",
    "[\n",
    "    tf.keras.layers.Dense(units=1, activation='sigmoid',name = \"L1\",input_dim=1)\n",
    "])"
   ]
  },
  {
   "cell_type": "code",
   "execution_count": 23,
   "id": "566a6dd0",
   "metadata": {},
   "outputs": [
    {
     "name": "stdout",
     "output_type": "stream",
     "text": [
      "Model: \"sequential_3\"\n",
      "_________________________________________________________________\n",
      " Layer (type)                Output Shape              Param #   \n",
      "=================================================================\n",
      " L1 (Dense)                  (None, 1)                 2         \n",
      "                                                                 \n",
      "=================================================================\n",
      "Total params: 2\n",
      "Trainable params: 2\n",
      "Non-trainable params: 0\n",
      "_________________________________________________________________\n"
     ]
    }
   ],
   "source": [
    "model.summary()"
   ]
  },
  {
   "cell_type": "code",
   "execution_count": 24,
   "id": "a0968462",
   "metadata": {},
   "outputs": [
    {
     "name": "stdout",
     "output_type": "stream",
     "text": [
      "[[1.4049481]] [0.]\n",
      "(1, 1) (1,)\n"
     ]
    }
   ],
   "source": [
    "logistic_layer = model.get_layer('L1')\n",
    "w,b = logistic_layer.get_weights()\n",
    "print(w,b)\n",
    "print(w.shape,b.shape)"
   ]
  },
  {
   "cell_type": "code",
   "execution_count": 25,
   "id": "7851071d",
   "metadata": {},
   "outputs": [
    {
     "name": "stdout",
     "output_type": "stream",
     "text": [
      "[array([[2.]], dtype=float32), array([-4.5], dtype=float32)]\n"
     ]
    }
   ],
   "source": [
    "set_w = np.array([[2]])\n",
    "set_b = np.array([-4.5])\n",
    "# set_weights takes a list of numpy arrays\n",
    "logistic_layer.set_weights([set_w, set_b])\n",
    "print(logistic_layer.get_weights())"
   ]
  },
  {
   "cell_type": "code",
   "execution_count": 27,
   "id": "97ab560e",
   "metadata": {},
   "outputs": [
    {
     "name": "stdout",
     "output_type": "stream",
     "text": [
      "1/1 [==============================] - 0s 18ms/step\n",
      "[[0.8175745]]\n"
     ]
    }
   ],
   "source": [
    "a1 = model.predict(X_train[3].reshape(1,1))\n",
    "print(a1)"
   ]
  },
  {
   "cell_type": "code",
   "execution_count": null,
   "id": "981c6d79",
   "metadata": {},
   "outputs": [],
   "source": []
  },
  {
   "cell_type": "code",
   "execution_count": null,
   "id": "0fba54dd",
   "metadata": {},
   "outputs": [],
   "source": []
  }
 ],
 "metadata": {
  "kernelspec": {
   "display_name": "Python 3 (ipykernel)",
   "language": "python",
   "name": "python3"
  },
  "language_info": {
   "codemirror_mode": {
    "name": "ipython",
    "version": 3
   },
   "file_extension": ".py",
   "mimetype": "text/x-python",
   "name": "python",
   "nbconvert_exporter": "python",
   "pygments_lexer": "ipython3",
   "version": "3.9.13"
  }
 },
 "nbformat": 4,
 "nbformat_minor": 5
}
