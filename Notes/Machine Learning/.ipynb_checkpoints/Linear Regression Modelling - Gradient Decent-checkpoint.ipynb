{
 "cells": [
  {
   "cell_type": "markdown",
   "id": "35b61c46",
   "metadata": {},
   "source": [
    "## Problem statement:\n",
    "Given the size of house and the actual prices it is sold for. A project given by the real estate agent is to come up with basic model which can predict the price of a house given its size.\n",
    "\n",
    "For building up the concept of linear regression let us consider we only have 3 data points. Prices of 1000 sqft house is 300000 dollars. 2000sqft house cost 500000 dollars and 3000 sqft house cost 700 dollars. Given this data how to predict the cost of 1200 sqft house.\n",
    "\n",
    "| Size (1000 sqft)     | Price (1000s of dollars) |\n",
    "| -------------------| ------------------------ |\n",
    "| 1.0               | 300                      |\n",
    "| 2.0               | 500                      |\n",
    "| 3.0               | 700                      |\n",
    "\n"
   ]
  },
  {
   "cell_type": "code",
   "execution_count": 1,
   "id": "34b955c0",
   "metadata": {},
   "outputs": [
    {
     "name": "stdout",
     "output_type": "stream",
     "text": [
      "shape of x_train = (3,)\n",
      "shape of x_train = (3,)\n"
     ]
    }
   ],
   "source": [
    "# importing numpy and pandas\n",
    "import numpy as np\n",
    "import pandas as pd\n",
    "x_train = np.array([1.0,2.0,3.0])\n",
    "y_train = np.array([300,500,700])\n",
    "print(f\"shape of x_train = {x_train.shape}\")\n",
    "print(f\"shape of x_train = {y_train.shape}\")"
   ]
  },
  {
   "cell_type": "markdown",
   "id": "88aa6468",
   "metadata": {},
   "source": [
    "### Cost function "
   ]
  },
  {
   "cell_type": "code",
   "execution_count": 2,
   "id": "36acefdc",
   "metadata": {},
   "outputs": [],
   "source": [
    "## Function to compute cost for every traing set.\n",
    "\n",
    "def compute_cost(x,y,w,b):\n",
    "    '''\n",
    "    x : one D array\n",
    "    y : one D array of target output\n",
    "    w : parameter \n",
    "    b : base term \n",
    "    \n",
    "    '''\n",
    "    m = x.shape[0]\n",
    "    #fwb = np.zeros(m)\n",
    "    error = 0\n",
    "    accumalated_error = 0\n",
    "    for i in range(0,m):\n",
    "        fwb = w * x[i] + b\n",
    "        # diff between predicted and actual\n",
    "        error = (fwb[i] - y[i])**2\n",
    "        accumalated_error +=  error\n",
    "    total_cost = 1 / (2*m) * accumalated_error\n",
    "    return total_cost\n",
    "        \n",
    "    \n",
    "    "
   ]
  },
  {
   "cell_type": "markdown",
   "id": "d9b7540b",
   "metadata": {},
   "source": [
    "### Gradient decent - intutition\n",
    "In the previous note we have defined a cost function and tried to guestimate the values for w and b parameter. The actual way of calculating the parameters is using a technique called gradient decent. The intution behind gradient decent is that the cost function based on MSE will always have a miminal Value for J for the given parameter value of w & b, and it is found by computing J value for a randomly selected value and trying to change w & b using a formula and contine this in iteration for some time w & b converges \n",
    "\n",
    "\n",
    "We have developed a linear model that predicts $f_{w,b}(x^{(i)})$:\n",
    "$$f_{w,b}(x^{(i)}) = wx^{(i)} + b \\tag{1}$$\n",
    "In linear regression, you utilize input training data to fit the parameters $w$,$b$ by minimizing a measure of the error between our predictions $f_{w,b}(x^{(i)})$ and the actual data $y^{(i)}$. The measure is called the $cost$, $J(w,b)$. In training you measure the cost over all of our training samples $x^{(i)},y^{(i)}$\n",
    "$$J(w,b) = \\frac{1}{2m} \\sum\\limits_{i = 0}^{m-1} (f_{w,b}(x^{(i)}) - y^{(i)})^2\\tag{2}$$ \n"
   ]
  },
  {
   "cell_type": "markdown",
   "id": "2e6f2f1e",
   "metadata": {},
   "source": [
    "\n",
    "*gradient descent* was described as:\n",
    "\n",
    "$$\\begin{align*} \\text{repeat}&\\text{ until convergence:} \\; \\lbrace \\newline\n",
    "\\;  w &= w -  \\alpha \\frac{\\partial J(w,b)}{\\partial w} \\tag{3}  \\; \\newline \n",
    " b &= b -  \\alpha \\frac{\\partial J(w,b)}{\\partial b}  \\newline \\rbrace\n",
    "\\end{align*}$$\n",
    "where, parameters $w$, $b$ are updated simultaneously.  \n",
    "The gradient is defined as:\n",
    "$$\n",
    "\\begin{align}\n",
    "\\frac{\\partial J(w,b)}{\\partial w}  &= \\frac{1}{m} \\sum\\limits_{i = 0}^{m-1} (f_{w,b}(x^{(i)}) - y^{(i)})x^{(i)} \\tag{4}\\\\\n",
    "  \\frac{\\partial J(w,b)}{\\partial b}  &= \\frac{1}{m} \\sum\\limits_{i = 0}^{m-1} (f_{w,b}(x^{(i)}) - y^{(i)}) \\tag{5}\\\\\n",
    "\\end{align}\n",
    "$$\n",
    "\n",
    "Here *simultaniously* means that you calculate the partial derivatives for all the parameters before updating any of the parameters."
   ]
  },
  {
   "cell_type": "markdown",
   "id": "5361d926",
   "metadata": {},
   "source": [
    "## Implement Gradient Descent\n",
    "We will implement gradient descent algorithm for one feature. You will need three functions. \n",
    "- `compute_gradient` implementing equation (4) and (5) above\n",
    "- `compute_cost` implementing equation (2) above (code from previous lab)\n",
    "- `gradient_descent`, utilizing compute_gradient and compute_cost\n",
    "\n",
    "Conventions:\n",
    "- The naming of python variables containing partial derivatives follows this pattern,$\\frac{\\partial J(w,b)}{\\partial b}$  will be `dj_db`.\n",
    "- w.r.t is With Respect To, as in partial derivative of $J(wb)$ With Respect To $b$.\n"
   ]
  },
  {
   "cell_type": "markdown",
   "id": "cf453302",
   "metadata": {},
   "source": [
    "### Compute gradient function \n",
    "$$\n",
    "\\begin{align}\n",
    "\\frac{\\partial J(w,b)}{\\partial w}  &= \\frac{1}{m} \\sum\\limits_{i = 0}^{m-1} (f_{w,b}(x^{(i)}) - y^{(i)})x^{(i)} \\tag{4}\\\\\n",
    "  \\frac{\\partial J(w,b)}{\\partial b}  &= \\frac{1}{m} \\sum\\limits_{i = 0}^{m-1} (f_{w,b}(x^{(i)}) - y^{(i)}) \\tag{5}\\\\\n",
    "\\end{align}\n",
    "$$\n",
    "\n",
    "\n"
   ]
  },
  {
   "cell_type": "code",
   "execution_count": 7,
   "id": "41685f07",
   "metadata": {},
   "outputs": [],
   "source": [
    "def get_gradient(x,y,w,b):\n",
    "    '''\n",
    "    x : one D array\n",
    "    y : one D array of target output\n",
    "    w : parameter \n",
    "    b : base term \n",
    "    \n",
    "    '''\n",
    "    m = x.shape[0]\n",
    "    dj_dw = 0\n",
    "    dj_db = 0\n",
    "    f_wb = 0\n",
    "    for i in range(m):\n",
    "        f_wb = w * x[i] + b\n",
    "        dj_dw_i = (f_wb - y[i]) * x[i]\n",
    "        dj_db_i = (f_wb - y[i])\n",
    "        dj_dw += dj_dw_i\n",
    "        dj_db += dj_db_i\n",
    "    dj_dw = dj_dw / m\n",
    "    dj_db = dj_db / m\n",
    "    return dj_dw, dj_db"
   ]
  },
  {
   "cell_type": "markdown",
   "id": "c1271698",
   "metadata": {},
   "source": [
    "### Plotting of gradients - To be done"
   ]
  },
  {
   "cell_type": "code",
   "execution_count": 9,
   "id": "19e1f9db",
   "metadata": {},
   "outputs": [
    {
     "ename": "SyntaxError",
     "evalue": "EOL while scanning string literal (4244743993.py, line 35)",
     "output_type": "error",
     "traceback": [
      "\u001b[1;36m  File \u001b[1;32m\"C:\\Users\\sanka\\AppData\\Local\\Temp\\ipykernel_8764\\4244743993.py\"\u001b[1;36m, line \u001b[1;32m35\u001b[0m\n\u001b[1;33m    f\"w: {w: 0.3e}, b:{b: 0.5e})\u001b[0m\n\u001b[1;37m                                ^\u001b[0m\n\u001b[1;31mSyntaxError\u001b[0m\u001b[1;31m:\u001b[0m EOL while scanning string literal\n"
     ]
    }
   ],
   "source": [
    "### Computing Gradient decent\n",
    "def gradient_descent(x, y, w_in, b_in, alpha, num_iters, cost_function, gradient_function):\n",
    "    '''\n",
    "    x : one D array\n",
    "    y : one D array of target output\n",
    "    w_in  : parameter \n",
    "    b_in  : base term \n",
    "    alpha : learning rate\n",
    "    num_iter : total number of times decent to be done\n",
    "    cost function : funtion to compute the cost for a givne w & b\n",
    "    gradient_funtion : function to compute gradient for a given w & b\n",
    "    \n",
    "    '''\n",
    "    w = w_in\n",
    "    b = b_in\n",
    "    m = x.shape[0]\n",
    "    cost_history = []\n",
    "    param_history = []\n",
    "    for i in range(num_iter):\n",
    "        # compute the gradient \n",
    "        dj_dw, dj_db = gradient_function(x,y,w,b)\n",
    "\n",
    "        ## do change of w & b based on learning rate\n",
    "        w = w - alpha * dj_dw\n",
    "        b = b - alpha * dj_db\n",
    "        \n",
    "        if i<100000:   \n",
    "            ## store the cost\n",
    "            cost_history.append(cost_function(x,y,w,b))\n",
    "            param_history.append([w,b])\n",
    "        # Print cost every at intervals 10 times or as many iterations if < 10\n",
    "        if i% math.ceil(num_iters/10) == 0:\n",
    "            print(f\"Iteration {i:4}: Cost {J_history[-1]:0.2e} \",\n",
    "                  f\"dj_dw: {dj_dw: 0.3e}, dj_db: {dj_db: 0.3e}  \",\n",
    "                  f\"w: {w: 0.3e}, b:{b: 0.5e}\")\n",
    "    return w, b, J_history, p_history #return w and J,w history for graphing\n",
    "        \n",
    "    \n",
    "    \n",
    "    \n"
   ]
  },
  {
   "cell_type": "code",
   "execution_count": null,
   "id": "e1283554",
   "metadata": {},
   "outputs": [],
   "source": []
  }
 ],
 "metadata": {
  "kernelspec": {
   "display_name": "Python 3 (ipykernel)",
   "language": "python",
   "name": "python3"
  },
  "language_info": {
   "codemirror_mode": {
    "name": "ipython",
    "version": 3
   },
   "file_extension": ".py",
   "mimetype": "text/x-python",
   "name": "python",
   "nbconvert_exporter": "python",
   "pygments_lexer": "ipython3",
   "version": "3.9.13"
  }
 },
 "nbformat": 4,
 "nbformat_minor": 5
}
