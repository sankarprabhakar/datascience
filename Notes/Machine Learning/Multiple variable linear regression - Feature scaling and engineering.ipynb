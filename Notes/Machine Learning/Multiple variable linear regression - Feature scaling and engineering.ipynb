{
 "cells": [
  {
   "cell_type": "markdown",
   "id": "384f8811",
   "metadata": {},
   "source": [
    "### Feature scaling\n",
    "\n",
    "\n",
    "If the features scales are very different then the gradient decent will take a long time to converge. Reason is : if we plot the Cost value for the feature we will see a eliptical contour rather than a circular one. Solution is to have features in same range by doing a feature scaling. mean and  Z-normalizaiton.\n",
    "\n",
    "Min max noramalization  to get value within 0 to 1:\n",
    "\n",
    "Mean   : $x_i := \\dfrac{x_i - \\mu_i}{max - min} $\n",
    "\n",
    "\n",
    "Z-score stadadization             : $$x^{(i)}_j = \\dfrac{x^{(i)}_j - \\mu_j}{\\sigma_j} $$ \n",
    "Z-score : Mean of transfored values is 0 and standard deviation is 1\n"
   ]
  },
  {
   "cell_type": "markdown",
   "id": "27475fc2",
   "metadata": {},
   "source": [
    "### Impact of learning rate in Gradient decent\n",
    "Learning rate can have impact on GD for convergence, a very high value of GD will cause a divergence in the ploat where as w small value will take a long time to converge. So we need to start with a small value and then try to increase by 3 folds and try to get an optimal value of learning rate"
   ]
  },
  {
   "cell_type": "markdown",
   "id": "038920f3",
   "metadata": {},
   "source": [
    "### Feature engineering\n",
    "Fewer a times the features given in the training set won't help in developing the model, we may have to derive new features from the existing features. For example, for house price prediction given the width & lenght of polt size we can derive the area to fit a better model. "
   ]
  },
  {
   "cell_type": "code",
   "execution_count": null,
   "id": "b12772a2",
   "metadata": {},
   "outputs": [],
   "source": []
  }
 ],
 "metadata": {
  "kernelspec": {
   "display_name": "Python 3 (ipykernel)",
   "language": "python",
   "name": "python3"
  },
  "language_info": {
   "codemirror_mode": {
    "name": "ipython",
    "version": 3
   },
   "file_extension": ".py",
   "mimetype": "text/x-python",
   "name": "python",
   "nbconvert_exporter": "python",
   "pygments_lexer": "ipython3",
   "version": "3.9.13"
  }
 },
 "nbformat": 4,
 "nbformat_minor": 5
}
