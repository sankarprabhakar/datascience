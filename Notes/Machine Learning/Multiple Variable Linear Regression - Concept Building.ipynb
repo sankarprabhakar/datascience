{
 "cells": [
  {
   "cell_type": "markdown",
   "id": "ed842e30",
   "metadata": {},
   "source": [
    "### Multiple Variable Linear Regression\n",
    "Mutiple variable linear regression, a type of problem where the target variable depends on multiple input variables\n"
   ]
  },
  {
   "cell_type": "markdown",
   "id": "1b925df5",
   "metadata": {},
   "source": [
    "### Problem statement\n",
    "We take an example of house price prediction.  Training example will have prices and size, bedrooms,floors and age of 3 houses as given below\n",
    "\n",
    "\n",
    "| Size (sqft) | Number of Bedrooms  | Number of floors | Age of  Home | Price (1000s dollars)  |   \n",
    "| ----------------| ------------------- |----------------- |--------------|-------------- |  \n",
    "| 2104            | 5                   | 1                | 45           | 460           |  \n",
    "| 1416            | 3                   | 2                | 40           | 232           |  \n",
    "| 852             | 2                   | 1                | 35           | 178           |  \n",
    "\n",
    "\n",
    "We will try to build the linear regression model to predict the housing price given size,number of bedrooms, floors and age of house.\n"
   ]
  },
  {
   "cell_type": "code",
   "execution_count": 2,
   "id": "76dc9508",
   "metadata": {},
   "outputs": [],
   "source": [
    "import numpy as np\n",
    "import pandas as pd\n",
    "x_train = np.array([[2104,5,1,45],[1416,3,2,40],[852,2,1,35]])\n",
    "y_train = np.array([460,232,178])"
   ]
  },
  {
   "cell_type": "code",
   "execution_count": 3,
   "id": "88c77d0c",
   "metadata": {},
   "outputs": [
    {
     "name": "stdout",
     "output_type": "stream",
     "text": [
      "[[2104    5    1   45]\n",
      " [1416    3    2   40]\n",
      " [ 852    2    1   35]]\n",
      "[460 232 178]\n"
     ]
    }
   ],
   "source": [
    "print(x_train)\n",
    "print(y_train)"
   ]
  },
  {
   "cell_type": "code",
   "execution_count": 4,
   "id": "51f1eb6f",
   "metadata": {},
   "outputs": [
    {
     "name": "stdout",
     "output_type": "stream",
     "text": [
      "(3, 4)\n",
      "(3,)\n"
     ]
    }
   ],
   "source": [
    "print(x_train.shape)\n",
    "print(y_train.shape)"
   ]
  },
  {
   "cell_type": "markdown",
   "id": "5ec998e6",
   "metadata": {},
   "source": [
    "### Multivariable model \n",
    "\n",
    "The model's prediction with multiple variables is given by the linear model:\n",
    "\n",
    "$$ f_{\\mathbf{w},b}(\\mathbf{x}) =  w_0x_0 + w_1x_1 +... + w_{n-1}x_{n-1} + b \\tag{1}$$\n",
    "or in vector notation:\n",
    "$$ f_{\\mathbf{w},b}(\\mathbf{x}) = \\mathbf{w} \\cdot \\mathbf{x} + b  \\tag{2} $$ \n",
    "where $\\cdot$ is a vector `dot product`\n",
    "\n",
    "To demonstrate the dot product, we will implement prediction using (1) and (2)"
   ]
  },
  {
   "cell_type": "code",
   "execution_count": 5,
   "id": "c4eac31b",
   "metadata": {},
   "outputs": [
    {
     "name": "stdout",
     "output_type": "stream",
     "text": [
      "w_init shape: (4,), b_init type: <class 'float'>\n"
     ]
    }
   ],
   "source": [
    "b_init = 785.1811367994083\n",
    "w_init = np.array([ 0.39133535, 18.75376741, -53.36032453, -26.42131618])\n",
    "print(f\"w_init shape: {w_init.shape}, b_init type: {type(b_init)}\")"
   ]
  },
  {
   "cell_type": "code",
   "execution_count": 6,
   "id": "82f236bc",
   "metadata": {},
   "outputs": [],
   "source": [
    "## Model predict function\n",
    "def predict_using_looping(x,w,b):\n",
    "    m = x.shape[0]\n",
    "    p = 0\n",
    "    for i in range(m):\n",
    "        p_i = x[i] * w[i]\n",
    "        p = p + p_i\n",
    "    return p + b\n"
   ]
  },
  {
   "cell_type": "code",
   "execution_count": 7,
   "id": "0cb8fb69",
   "metadata": {},
   "outputs": [
    {
     "name": "stdout",
     "output_type": "stream",
     "text": [
      "x_vec shape (4,), x_vec value: [2104    5    1   45]\n",
      "f_wb shape (), prediction: 459.9999976194083\n"
     ]
    }
   ],
   "source": [
    "## predict the value for the first example\n",
    "\n",
    "# get a row from our training data\n",
    "x_vec = x_train[0,:]\n",
    "print(f\"x_vec shape {x_vec.shape}, x_vec value: {x_vec}\")\n",
    "\n",
    "# make a prediction\n",
    "f_wb = predict_using_looping(x_vec, w_init, b_init)\n",
    "print(f\"f_wb shape {f_wb.shape}, prediction: {f_wb}\")"
   ]
  },
  {
   "cell_type": "markdown",
   "id": "ee6efbd3",
   "metadata": {},
   "source": [
    "### Predict the value using the dot product"
   ]
  },
  {
   "cell_type": "code",
   "execution_count": 8,
   "id": "51530903",
   "metadata": {},
   "outputs": [],
   "source": [
    "def predict_dot_product(x,w,b):\n",
    "    return np.dot(x,w) + b ## Dot product"
   ]
  },
  {
   "cell_type": "code",
   "execution_count": 9,
   "id": "f31b31fd",
   "metadata": {},
   "outputs": [
    {
     "name": "stdout",
     "output_type": "stream",
     "text": [
      "x_vec shape (4,), x_vec value: [2104    5    1   45]\n",
      "f_wb shape (), prediction: 459.9999976194083\n"
     ]
    }
   ],
   "source": [
    "# get a row from our training data\n",
    "x_vec = x_train[0,:]\n",
    "print(f\"x_vec shape {x_vec.shape}, x_vec value: {x_vec}\")\n",
    "\n",
    "# make a prediction\n",
    "f_wb = predict_dot_product(x_vec,w_init, b_init)\n",
    "print(f\"f_wb shape {f_wb.shape}, prediction: {f_wb}\")"
   ]
  },
  {
   "cell_type": "markdown",
   "id": "dd021c33",
   "metadata": {},
   "source": [
    "### Cost function for multiple variable regression \n",
    "equation for the cost function with multiple variables $J(\\mathbf{w},b)$ is:\n",
    "$$J(\\mathbf{w},b) = \\frac{1}{2m} \\sum\\limits_{i = 0}^{m-1} (f_{\\mathbf{w},b}(\\mathbf{x}^{(i)}) - y^{(i)})^2 \\tag{3}$$ \n",
    "where:\n",
    "$$ f_{\\mathbf{w},b}(\\mathbf{x}^{(i)}) = \\mathbf{w} \\cdot \\mathbf{x}^{(i)} + b  \\tag{4} $$ \n",
    "\n",
    "\n",
    " $\\mathbf{w}$ and $\\mathbf{x}^{(i)}$ are vectors rather than scalars supporting multiple features."
   ]
  },
  {
   "cell_type": "code",
   "execution_count": 10,
   "id": "7403c1ad",
   "metadata": {},
   "outputs": [],
   "source": [
    "def compute_cost(x_train,w,b,y_train):\n",
    "    m = x_train.shape[0]\n",
    "    j_wb = 0.0\n",
    "    for i in range(m):\n",
    "        j_wb_i = ((np.dot(x_train[i,:],w) + b) - y_train[i])**2\n",
    "        j_wb = j_wb + j_wb_i\n",
    "    return j_wb / (2*m)\n",
    "    "
   ]
  },
  {
   "cell_type": "code",
   "execution_count": 11,
   "id": "4d8e312c",
   "metadata": {},
   "outputs": [
    {
     "name": "stdout",
     "output_type": "stream",
     "text": [
      "1.5578904045996674e-12\n"
     ]
    }
   ],
   "source": [
    "cost = compute_cost(x_train,w_init,b_init,y_train)\n",
    "print(cost)"
   ]
  },
  {
   "cell_type": "markdown",
   "id": "0830736c",
   "metadata": {},
   "source": [
    "### Gradient descent for multiple variables:\n",
    "\n",
    "$$\\begin{align*} \\text{repeat}&\\text{ until convergence:} \\; \\lbrace \\newline\\;\n",
    "& w_j = w_j -  \\alpha \\frac{\\partial J(\\mathbf{w},b)}{\\partial w_j} \\tag{5}  \\; & \\text{for j = 0..n-1}\\newline\n",
    "&b\\ \\ = b -  \\alpha \\frac{\\partial J(\\mathbf{w},b)}{\\partial b}  \\newline \\rbrace\n",
    "\\end{align*}$$\n",
    "\n",
    "where, n is the number of features, parameters $w_j$,  $b$, are updated simultaneously and where  \n",
    "\n",
    "$$\n",
    "\\begin{align}\n",
    "\\frac{\\partial J(\\mathbf{w},b)}{\\partial w_j}  &= \\frac{1}{m} \\sum\\limits_{i = 0}^{m-1} (f_{\\mathbf{w},b}(\\mathbf{x}^{(i)}) - y^{(i)})x_{j}^{(i)} \\tag{6}  \\\\\n",
    "\\frac{\\partial J(\\mathbf{w},b)}{\\partial b}  &= \\frac{1}{m} \\sum\\limits_{i = 0}^{m-1} (f_{\\mathbf{w},b}(\\mathbf{x}^{(i)}) - y^{(i)}) \\tag{7}\n",
    "\\end{align}\n",
    "$$\n",
    "* m is the number of training examples in the data set\n",
    "\n",
    "    \n",
    "*  $f_{\\mathbf{w},b}(\\mathbf{x}^{(i)})$ is the model's prediction, while $y^{(i)}$ is the target value\n"
   ]
  },
  {
   "cell_type": "markdown",
   "id": "d708b645",
   "metadata": {},
   "source": [
    "## 5.1 Compute Gradient with Multiple Variables\n",
    "An implementation for calculating the equations (6) and (7) is below. There are many ways to implement this. In this version, there is an\n",
    "- outer loop over all m examples. \n",
    "    - $\\frac{\\partial J(\\mathbf{w},b)}{\\partial b}$ for the example can be computed directly and accumulated\n",
    "    - in a second loop over all n features:\n",
    "        - $\\frac{\\partial J(\\mathbf{w},b)}{\\partial w_j}$ is computed for each $w_j$."
   ]
  },
  {
   "cell_type": "code",
   "execution_count": 12,
   "id": "56d75d79",
   "metadata": {},
   "outputs": [],
   "source": [
    "def compute_gradient(X, y, w, b):\n",
    "    total_training_set = X.shape[0]\n",
    "    total_features = X.shape[1]\n",
    "    dj_dw = np.zeros(total_features)\n",
    "    dj_db = 0\n",
    "    for i in range(total_training_set):\n",
    "        err = np.dot(X[i], w) + b - y[i]\n",
    "        for j in range(total_features):\n",
    "            dj_dw[j] =  dj_dw[j]  + err * X[i,j]\n",
    "        dj_db = dj_db + err\n",
    "    return dj_dw/total_training_set , dj_db/total_training_set "
   ]
  },
  {
   "cell_type": "code",
   "execution_count": 13,
   "id": "aef16800",
   "metadata": {},
   "outputs": [
    {
     "name": "stdout",
     "output_type": "stream",
     "text": [
      "Value of dj_db_iter = [-2.72623574e-03 -6.27197255e-06 -2.21745574e-06 -6.92403377e-05]\n",
      "Value of dj_db_iter = -1.6739251122999121e-06\n"
     ]
    }
   ],
   "source": [
    "dj_dw_iter, dj_db_iter = compute_gradient(x_train,y_train,w_init,b_init)\n",
    "print(f\"Value of dj_db_iter = {dj_dw_iter}\")\n",
    "print(f\"Value of dj_db_iter = {dj_db_iter}\")"
   ]
  },
  {
   "cell_type": "markdown",
   "id": "beb1b918",
   "metadata": {},
   "source": [
    "### Gradient Descent With Multiple Variables\n",
    "The routine below implements equation (5) above."
   ]
  },
  {
   "cell_type": "code",
   "execution_count": 25,
   "id": "0eeeff2e",
   "metadata": {},
   "outputs": [],
   "source": [
    "import copy, math\n",
    "def gradient_descent(x_train,y_train, w_init,b_init,compute_cost,compute_gradient,iterations, alpha):\n",
    "    J_history = []\n",
    "    size_of_training_set = x_train.shape[0]\n",
    "    w = copy.deepcopy(w_init)\n",
    "    b = b_init\n",
    "    for i in range(0,iterations):\n",
    "        gradient = compute_gradient(x_train, y_train,w,b)\n",
    "        w = w - alpha * gradient[0]\n",
    "        b = b - alpha * gradient[1]\n",
    "        if i < 10000:\n",
    "            J_history.append(compute_cost(x_train,w,b,y_train))\n",
    "        if i % math.ceil(iterations / 10) ==0:\n",
    "            print(f\"Iteration {i:4d}: Cost {J_history[-1]:8.2f}   \")\n",
    "    return w,b ,J_history\n",
    "        \n",
    "        \n",
    "        "
   ]
  },
  {
   "cell_type": "code",
   "execution_count": 41,
   "id": "e5c8d43e",
   "metadata": {},
   "outputs": [
    {
     "name": "stdout",
     "output_type": "stream",
     "text": [
      "Iteration    0: Cost  2529.46   \n",
      "Iteration 10000: Cost   624.83   \n",
      "Iteration 20000: Cost   624.83   \n",
      "Iteration 30000: Cost   624.83   \n",
      "Iteration 40000: Cost   624.83   \n",
      "Iteration 50000: Cost   624.83   \n",
      "Iteration 60000: Cost   624.83   \n",
      "Iteration 70000: Cost   624.83   \n",
      "Iteration 80000: Cost   624.83   \n",
      "Iteration 90000: Cost   624.83   \n",
      "b,w found by gradient descent: -0.04,[ 0.24224154  0.28821169 -0.85520022 -1.57622854] \n",
      "prediction: 439.29, target value: 460\n",
      "prediction: 279.08, target value: 232\n",
      "prediction: 150.90, target value: 178\n"
     ]
    }
   ],
   "source": [
    "# initialize parameters\n",
    "initial_w = np.zeros_like(w_init)\n",
    "initial_b = 0.\n",
    "# some gradient descent settings\n",
    "iterations = 100000\n",
    "alpha = 5.0e-7\n",
    "# run gradient descent \n",
    "w_final, b_final, J_hist = gradient_descent(x_train, y_train, initial_w, initial_b,\n",
    "                                                    compute_cost, compute_gradient, \n",
    "                                                    iterations,alpha )\n",
    "print(f\"b,w found by gradient descent: {b_final:0.2f},{w_final} \")\n",
    "m,_ = x_train.shape\n",
    "for i in range(m):\n",
    "    print(f\"prediction: {np.dot(x_train[i], w_final) + b_final:0.2f}, target value: {y_train[i]}\")"
   ]
  },
  {
   "cell_type": "code",
   "execution_count": 45,
   "id": "85a2db56",
   "metadata": {},
   "outputs": [
    {
     "data": {
      "text/plain": [
       "Text(0.5, 1.0, 'Cost vs iteration of GD')"
      ]
     },
     "execution_count": 45,
     "metadata": {},
     "output_type": "execute_result"
    },
    {
     "data": {
      "image/png": "[encoded data removed]",
      "text/plain": [
       "<Figure size 1200x400 with 2 Axes>"
      ]
     },
     "metadata": {},
     "output_type": "display_data"
    }
   ],
   "source": [
    "import matplotlib.pyplot as plt\n",
    "fig,(ax1,ax2) = plt.subplots(1,2,constrained_layout=True, figsize=(12, 4))\n",
    "ax1.plot(np.arange(0,len(J_hist),100),J_hist[::100])\n",
    "ax1.set_xlabel(\"iteration count\")\n",
    "ax1.set_ylabel(\"Cost\")\n",
    "ax1.set_title(\"Cost vs iteration of GD\")\n",
    "ax2.plot( np.arange(len(J_hist) - 100, len(J_hist)), J_hist[9900:])\n",
    "ax2.set_xlabel(\"iteration count\")\n",
    "ax2.set_ylabel(\"Cost\")\n",
    "ax2.set_title(\"Cost vs iteration of GD\")\n"
   ]
  },
  {
   "cell_type": "code",
   "execution_count": null,
   "id": "ce7c6334",
   "metadata": {},
   "outputs": [],
   "source": []
  },
  {
   "cell_type": "code",
   "execution_count": null,
   "id": "6a2a466e",
   "metadata": {},
   "outputs": [],
   "source": []
  }
 ],
 "metadata": {
  "kernelspec": {
   "display_name": "Python 3 (ipykernel)",
   "language": "python",
   "name": "python3"
  },
  "language_info": {
   "codemirror_mode": {
    "name": "ipython",
    "version": 3
   },
   "file_extension": ".py",
   "mimetype": "text/x-python",
   "name": "python",
   "nbconvert_exporter": "python",
   "pygments_lexer": "ipython3",
   "version": "3.9.13"
  }
 },
 "nbformat": 4,
 "nbformat_minor": 5
}
