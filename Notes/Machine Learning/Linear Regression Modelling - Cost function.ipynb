{
 "cells": [
  {
   "cell_type": "markdown",
   "id": "42226210",
   "metadata": {},
   "source": [
    "# Linear regression - Cost function\n",
    "Problem statement:\n",
    "Given the size of house and the actual prices it is sold for. A project given by the real estate agent is to come up with basic model which can predict the price of a house given its size.\n",
    "\n",
    "For building up the concept of linear regression let us consider we only have 3 data points. Prices of 1000 sqft house is 300000 dollars. 2000sqft house cost 500000 dollars and 3000 sqft house cost 700 dollars. Given this data how to predict the cost of 1200 sqft house.\n",
    "\n",
    "| Size (1000 sqft)     | Price (1000s of dollars) |\n",
    "| -------------------| ------------------------ |\n",
    "| 1.0               | 300                      |\n",
    "| 2.0               | 500                      |\n",
    "| 3.0               | 700                      |\n",
    "\n"
   ]
  },
  {
   "cell_type": "code",
   "execution_count": 1,
   "id": "d405fd47",
   "metadata": {},
   "outputs": [
    {
     "name": "stdout",
     "output_type": "stream",
     "text": [
      "shape of x_train = (3,)\n",
      "shape of x_train = (3,)\n"
     ]
    }
   ],
   "source": [
    "# importing numpy and pandas\n",
    "import numpy as np\n",
    "import pandas as pd\n",
    "x_train = np.array([1.0,2.0,3.0])\n",
    "y_train = np.array([300,500,700])\n",
    "print(f\"shape of x_train = {x_train.shape}\")\n",
    "print(f\"shape of x_train = {y_train.shape}\")"
   ]
  },
  {
   "cell_type": "markdown",
   "id": "9e632c88",
   "metadata": {},
   "source": [
    "## Cost Function\n",
    "\n",
    "Defition : Cost function is measure of how close our model predicts the output . In our example of housing price, for 1000Sqft house the model is predicting 250 thousand dollars or exactly 300 thousand dollars or just over 320 thousand dollars. Which prediction is bette ? \n",
    "\n",
    "\n",
    "Cost function is a function of actual value and predicted value. Mean sqaure error based cost function is defined as below\n",
    "\n",
    "$$J_{(w,b)} = \\frac{1}{2m} \\sum\\limits _{i=0}^{m-1} (f_{w,b}(x^{(i)}) - y^{(i)})^2 \\tag{1}$$\n",
    "\n",
    "\n",
    "where \n",
    "  $$f_{w,b}(x^{(i)}) = wx^{(i)} + b \\tag{2}$$\n",
    "  \n",
    "- $f_{w,b}(x^{(i)})$ is our prediction for example $i$ using parameters $w,b$.  \n",
    "- $(f_{w,b}(x^{(i)}) -y^{(i)})^2$ is the squared difference between the target value and the prediction.   \n",
    "- These differences are summed over all the $m$ examples and divided by `2m` to produce the cost, $J(w,b)$.\n",
    "\n"
   ]
  },
  {
   "cell_type": "code",
   "execution_count": 1,
   "id": "3efd047c",
   "metadata": {},
   "outputs": [],
   "source": [
    "## Function to compute cost for every traing set.\n",
    "\n",
    "def compute_cost(x,y,w,b):\n",
    "    '''\n",
    "    x : one D array\n",
    "    y : one D array of target output\n",
    "    w : parameter \n",
    "    b : base term \n",
    "    \n",
    "    '''\n",
    "    m = x.shape[0]\n",
    "    #fwb = np.zeros(m)\n",
    "    error = 0\n",
    "    accumalated_error = 0\n",
    "    for i in range(0,m):\n",
    "        fwb = w * x[i] + b\n",
    "        # diff between predicted and actual\n",
    "        error = (fwb - y[i])**2\n",
    "        accumalated_error +=  error\n",
    "    total_cost = 1 / (2*m) * accumalated_error\n",
    "    return total_cost\n",
    "        \n",
    "    \n",
    "    "
   ]
  },
  {
   "cell_type": "markdown",
   "id": "b4278bbd",
   "metadata": {},
   "source": [
    "Note : Our aim of project is find the optimal value of w,b parameters of our model such that the cost of our prediction is minimal. Cost of function is given by the formula in the above statement. \n",
    "\n",
    "When we plot a graph (3D) of w,b and Cost function J(Cost of given training set) we can see that the cost function follows a bowl shape with one minimal value(i.e lowed J value). Out aim would be to find the value of w,b for which J is minimum using gradient decent algorithm"
   ]
  },
  {
   "cell_type": "code",
   "execution_count": null,
   "id": "06fa0375",
   "metadata": {},
   "outputs": [],
   "source": []
  }
 ],
 "metadata": {
  "kernelspec": {
   "display_name": "Python 3 (ipykernel)",
   "language": "python",
   "name": "python3"
  },
  "language_info": {
   "codemirror_mode": {
    "name": "ipython",
    "version": 3
   },
   "file_extension": ".py",
   "mimetype": "text/x-python",
   "name": "python",
   "nbconvert_exporter": "python",
   "pygments_lexer": "ipython3",
   "version": "3.9.13"
  }
 },
 "nbformat": 4,
 "nbformat_minor": 5
}
