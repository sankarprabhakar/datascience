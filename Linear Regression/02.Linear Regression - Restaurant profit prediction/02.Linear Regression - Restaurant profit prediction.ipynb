{
 "cells": [
  {
   "cell_type": "markdown",
   "id": "12c38a1a",
   "metadata": {},
   "source": [
    "### Problem statement\n",
    "Suppose you are the CEO of a restaurant franchise and are considering different cities for opening a new outlet.\n",
    "\n",
    "You would like to expand your business to cities that may give your restaurant higher profits.\n",
    "* The chain already has restaurants in various cities and you have data for profits and populations from the cities.\n",
    "* You also have data on cities that are candidates for a new restaurant.\n",
    "* For these cities, you have the city population. Can you use the data to help you identify which cities may potentially give your business higher profits?"
   ]
  },
  {
   "cell_type": "code",
   "execution_count": 14,
   "id": "3b45d775",
   "metadata": {},
   "outputs": [],
   "source": [
    "import numpy as np\n",
    "import pandas as pd\n",
    "import matplotlib.pyplot as plt\n",
    "from sklearn.linear_model import SGDRegressor\n",
    "from sklearn.preprocessing import StandardScaler\n"
   ]
  },
  {
   "cell_type": "code",
   "execution_count": 9,
   "id": "392aa590",
   "metadata": {},
   "outputs": [],
   "source": [
    "## Import data\n",
    "def load_data():\n",
    "    data = np.loadtxt(\"ex1data1.txt\", delimiter=',')\n",
    "    print(data)\n",
    "    X_train = data[:,0]\n",
    "    Y_train = data[:,1]\n",
    "    print(X_train)\n",
    "    print(Y_train)\n",
    "    return X_train,Y_train"
   ]
  },
  {
   "cell_type": "code",
   "execution_count": 10,
   "id": "42c3062f",
   "metadata": {},
   "outputs": [
    {
     "name": "stdout",
     "output_type": "stream",
     "text": [
      "[[ 6.1101  17.592  ]\n",
      " [ 5.5277   9.1302 ]\n",
      " [ 8.5186  13.662  ]\n",
      " [ 7.0032  11.854  ]\n",
      " [ 5.8598   6.8233 ]\n",
      " [ 8.3829  11.886  ]\n",
      " [ 7.4764   4.3483 ]\n",
      " [ 8.5781  12.     ]\n",
      " [ 6.4862   6.5987 ]\n",
      " [ 5.0546   3.8166 ]\n",
      " [ 5.7107   3.2522 ]\n",
      " [14.164   15.505  ]\n",
      " [ 5.734    3.1551 ]\n",
      " [ 8.4084   7.2258 ]\n",
      " [ 5.6407   0.71618]\n",
      " [ 5.3794   3.5129 ]\n",
      " [ 6.3654   5.3048 ]\n",
      " [ 5.1301   0.56077]\n",
      " [ 6.4296   3.6518 ]\n",
      " [ 7.0708   5.3893 ]\n",
      " [ 6.1891   3.1386 ]\n",
      " [20.27    21.767  ]\n",
      " [ 5.4901   4.263  ]\n",
      " [ 6.3261   5.1875 ]\n",
      " [ 5.5649   3.0825 ]\n",
      " [18.945   22.638  ]\n",
      " [12.828   13.501  ]\n",
      " [10.957    7.0467 ]\n",
      " [13.176   14.692  ]\n",
      " [22.203   24.147  ]\n",
      " [ 5.2524  -1.22   ]\n",
      " [ 6.5894   5.9966 ]\n",
      " [ 9.2482  12.134  ]\n",
      " [ 5.8918   1.8495 ]\n",
      " [ 8.2111   6.5426 ]\n",
      " [ 7.9334   4.5623 ]\n",
      " [ 8.0959   4.1164 ]\n",
      " [ 5.6063   3.3928 ]\n",
      " [12.836   10.117  ]\n",
      " [ 6.3534   5.4974 ]\n",
      " [ 5.4069   0.55657]\n",
      " [ 6.8825   3.9115 ]\n",
      " [11.708    5.3854 ]\n",
      " [ 5.7737   2.4406 ]\n",
      " [ 7.8247   6.7318 ]\n",
      " [ 7.0931   1.0463 ]\n",
      " [ 5.0702   5.1337 ]\n",
      " [ 5.8014   1.844  ]\n",
      " [11.7      8.0043 ]\n",
      " [ 5.5416   1.0179 ]\n",
      " [ 7.5402   6.7504 ]\n",
      " [ 5.3077   1.8396 ]\n",
      " [ 7.4239   4.2885 ]\n",
      " [ 7.6031   4.9981 ]\n",
      " [ 6.3328   1.4233 ]\n",
      " [ 6.3589  -1.4211 ]\n",
      " [ 6.2742   2.4756 ]\n",
      " [ 5.6397   4.6042 ]\n",
      " [ 9.3102   3.9624 ]\n",
      " [ 9.4536   5.4141 ]\n",
      " [ 8.8254   5.1694 ]\n",
      " [ 5.1793  -0.74279]\n",
      " [21.279   17.929  ]\n",
      " [14.908   12.054  ]\n",
      " [18.959   17.054  ]\n",
      " [ 7.2182   4.8852 ]\n",
      " [ 8.2951   5.7442 ]\n",
      " [10.236    7.7754 ]\n",
      " [ 5.4994   1.0173 ]\n",
      " [20.341   20.992  ]\n",
      " [10.136    6.6799 ]\n",
      " [ 7.3345   4.0259 ]\n",
      " [ 6.0062   1.2784 ]\n",
      " [ 7.2259   3.3411 ]\n",
      " [ 5.0269  -2.6807 ]\n",
      " [ 6.5479   0.29678]\n",
      " [ 7.5386   3.8845 ]\n",
      " [ 5.0365   5.7014 ]\n",
      " [10.274    6.7526 ]\n",
      " [ 5.1077   2.0576 ]\n",
      " [ 5.7292   0.47953]\n",
      " [ 5.1884   0.20421]\n",
      " [ 6.3557   0.67861]\n",
      " [ 9.7687   7.5435 ]\n",
      " [ 6.5159   5.3436 ]\n",
      " [ 8.5172   4.2415 ]\n",
      " [ 9.1802   6.7981 ]\n",
      " [ 6.002    0.92695]\n",
      " [ 5.5204   0.152  ]\n",
      " [ 5.0594   2.8214 ]\n",
      " [ 5.7077   1.8451 ]\n",
      " [ 7.6366   4.2959 ]\n",
      " [ 5.8707   7.2029 ]\n",
      " [ 5.3054   1.9869 ]\n",
      " [ 8.2934   0.14454]\n",
      " [13.394    9.0551 ]\n",
      " [ 5.4369   0.61705]]\n",
      "[ 6.1101  5.5277  8.5186  7.0032  5.8598  8.3829  7.4764  8.5781  6.4862\n",
      "  5.0546  5.7107 14.164   5.734   8.4084  5.6407  5.3794  6.3654  5.1301\n",
      "  6.4296  7.0708  6.1891 20.27    5.4901  6.3261  5.5649 18.945  12.828\n",
      " 10.957  13.176  22.203   5.2524  6.5894  9.2482  5.8918  8.2111  7.9334\n",
      "  8.0959  5.6063 12.836   6.3534  5.4069  6.8825 11.708   5.7737  7.8247\n",
      "  7.0931  5.0702  5.8014 11.7     5.5416  7.5402  5.3077  7.4239  7.6031\n",
      "  6.3328  6.3589  6.2742  5.6397  9.3102  9.4536  8.8254  5.1793 21.279\n",
      " 14.908  18.959   7.2182  8.2951 10.236   5.4994 20.341  10.136   7.3345\n",
      "  6.0062  7.2259  5.0269  6.5479  7.5386  5.0365 10.274   5.1077  5.7292\n",
      "  5.1884  6.3557  9.7687  6.5159  8.5172  9.1802  6.002   5.5204  5.0594\n",
      "  5.7077  7.6366  5.8707  5.3054  8.2934 13.394   5.4369]\n",
      "[17.592    9.1302  13.662   11.854    6.8233  11.886    4.3483  12.\n",
      "  6.5987   3.8166   3.2522  15.505    3.1551   7.2258   0.71618  3.5129\n",
      "  5.3048   0.56077  3.6518   5.3893   3.1386  21.767    4.263    5.1875\n",
      "  3.0825  22.638   13.501    7.0467  14.692   24.147   -1.22     5.9966\n",
      " 12.134    1.8495   6.5426   4.5623   4.1164   3.3928  10.117    5.4974\n",
      "  0.55657  3.9115   5.3854   2.4406   6.7318   1.0463   5.1337   1.844\n",
      "  8.0043   1.0179   6.7504   1.8396   4.2885   4.9981   1.4233  -1.4211\n",
      "  2.4756   4.6042   3.9624   5.4141   5.1694  -0.74279 17.929   12.054\n",
      " 17.054    4.8852   5.7442   7.7754   1.0173  20.992    6.6799   4.0259\n",
      "  1.2784   3.3411  -2.6807   0.29678  3.8845   5.7014   6.7526   2.0576\n",
      "  0.47953  0.20421  0.67861  7.5435   5.3436   4.2415   6.7981   0.92695\n",
      "  0.152    2.8214   1.8451   4.2959   7.2029   1.9869   0.14454  9.0551\n",
      "  0.61705]\n"
     ]
    }
   ],
   "source": [
    "X_train,Y_train = load_data()"
   ]
  },
  {
   "cell_type": "code",
   "execution_count": 6,
   "id": "cffd6749",
   "metadata": {},
   "outputs": [
    {
     "data": {
      "text/plain": [
       "['.ipynb_checkpoints',\n",
       " '02.Linear Regression - Restaurant profit prediction.ipynb',\n",
       " 'ex1data1.txt',\n",
       " 'ex2data2.txt']"
      ]
     },
     "execution_count": 6,
     "metadata": {},
     "output_type": "execute_result"
    }
   ],
   "source": [
    "import os\n",
    "os.listdir()"
   ]
  },
  {
   "cell_type": "code",
   "execution_count": 37,
   "id": "0d65c2b2",
   "metadata": {},
   "outputs": [
    {
     "name": "stdout",
     "output_type": "stream",
     "text": [
      "Number of iterations = 30 values update = 2911.0\n"
     ]
    }
   ],
   "source": [
    "## Regressor\n",
    "sgd = SGDRegressor()\n",
    "scalar = StandardScaler()\n",
    "X_norm =  scalar.fit_transform(X_train.reshape(-1,1))\n",
    "#X_norm = X_train.reshape(-1,1)\n",
    "#print(X_norm)\n",
    "sgd.fit(X_norm,Y_train)\n",
    "print(f\"Number of iterations = {sgd.n_iter_} values update = {sgd.t_}\")"
   ]
  },
  {
   "cell_type": "code",
   "execution_count": 38,
   "id": "ffa5a3a5",
   "metadata": {},
   "outputs": [
    {
     "name": "stdout",
     "output_type": "stream",
     "text": [
      "W norm = [4.57432008] B norm = [5.80712467]\n"
     ]
    }
   ],
   "source": [
    "w_norm = sgd.coef_\n",
    "b_norm = sgd.intercept_\n",
    "print(f\"W norm = {w_norm} B norm = {b_norm}\")"
   ]
  },
  {
   "cell_type": "code",
   "execution_count": 47,
   "id": "27d4586b",
   "metadata": {},
   "outputs": [
    {
     "name": "stdout",
     "output_type": "stream",
     "text": [
      "Y prediction = [ 3.3717308   2.67974008  6.23344038  4.43288622  3.07433163  6.07220559\n",
      "  4.99512868  6.30413655  3.81860187  2.11761643  2.89717535 12.9411403\n",
      "  2.92485973  6.10250395  2.81400339  2.50353434  3.67507083  2.20732333\n",
      "  3.7513514   4.51320657  3.4655963  20.19611172  2.63506485  3.62837571\n",
      "  2.72394004 18.6217853  11.35374399  9.13067627 11.76722746 22.49284604\n",
      "  2.35263663  3.94122111  7.10032986  3.1123531   5.86807783  5.53812278\n",
      "  5.73120055  2.77313031 11.36324936  3.66081278  2.53620904  4.28947399\n",
      " 10.0229926   2.97203012  5.4089686   4.53970278  2.1361519   3.00494245\n",
      " 10.01348723  2.69625565  5.07093399  2.41834248  4.93274971  5.14566993\n",
      "  3.63633646  3.66734772  3.56670964  2.81281522  7.17399645  7.34438016\n",
      "  6.59797121  2.26578134 21.39497615 13.82513943 18.63841969  4.68834296\n",
      "  5.96788419  8.27400506  2.64611484 20.28047185  8.15518797  4.82652723\n",
      "  3.24827985  4.69749188  2.0847041   3.89191202  5.06903291  2.09611054\n",
      "  8.31915555  2.18070831  2.91915651  2.2765937   3.66354557  7.7187728\n",
      "  3.85389055  6.23177694  7.01953424  3.24328953  2.67106643  2.12331965\n",
      "  2.89361084  5.18547366  3.08728269  2.41560969  5.9658643  12.02624871\n",
      "  2.57185416]\n",
      "Y train = [17.592    9.1302  13.662   11.854    6.8233  11.886    4.3483  12.\n",
      "  6.5987   3.8166   3.2522  15.505    3.1551   7.2258   0.71618  3.5129\n",
      "  5.3048   0.56077  3.6518   5.3893   3.1386  21.767    4.263    5.1875\n",
      "  3.0825  22.638   13.501    7.0467  14.692   24.147   -1.22     5.9966\n",
      " 12.134    1.8495   6.5426   4.5623   4.1164   3.3928  10.117    5.4974\n",
      "  0.55657  3.9115   5.3854   2.4406   6.7318   1.0463   5.1337   1.844\n",
      "  8.0043   1.0179   6.7504   1.8396   4.2885   4.9981   1.4233  -1.4211\n",
      "  2.4756   4.6042   3.9624   5.4141   5.1694  -0.74279 17.929   12.054\n",
      " 17.054    4.8852   5.7442   7.7754   1.0173  20.992    6.6799   4.0259\n",
      "  1.2784   3.3411  -2.6807   0.29678  3.8845   5.7014   6.7526   2.0576\n",
      "  0.47953  0.20421  0.67861  7.5435   5.3436   4.2415   6.7981   0.92695\n",
      "  0.152    2.8214   1.8451   4.2959   7.2029   1.9869   0.14454  9.0551\n",
      "  0.61705]\n"
     ]
    }
   ],
   "source": [
    "y_sgd_predict = sgd.predict(X_norm)\n",
    "print(f\"Y prediction = {y_sgd_predict}\")\n",
    "print(f\"Y train = {Y_train}\")"
   ]
  },
  {
   "cell_type": "code",
   "execution_count": 52,
   "id": "26558b15",
   "metadata": {},
   "outputs": [
    {
     "data": {
      "text/plain": [
       "<matplotlib.legend.Legend at 0x161661e4b80>"
      ]
     },
     "execution_count": 52,
     "metadata": {},
     "output_type": "execute_result"
    },
    {
     "data": {
      "image/png": "[encoded data removed]",
      "text/plain": [
       "<Figure size 1200x400 with 1 Axes>"
      ]
     },
     "metadata": {},
     "output_type": "display_data"
    }
   ],
   "source": [
    "fig, ax = plt.subplots(1,1,figsize=(12,4))\n",
    "ax.scatter(X_train,Y_train, label=\"Actual\")\n",
    "ax.plot(X_train,y_sgd_predict,color=\"orange\",label=\"Predict\")\n",
    "ax.set_xlabel(\"Population\")\n",
    "ax.set_ylabel(\"Profit \")\n",
    "ax.set_title(\"Population vs profit\")\n",
    "ax.legend()"
   ]
  },
  {
   "cell_type": "code",
   "execution_count": null,
   "id": "2f384b02",
   "metadata": {},
   "outputs": [],
   "source": []
  }
 ],
 "metadata": {
  "kernelspec": {
   "display_name": "Python 3 (ipykernel)",
   "language": "python",
   "name": "python3"
  },
  "language_info": {
   "codemirror_mode": {
    "name": "ipython",
    "version": 3
   },
   "file_extension": ".py",
   "mimetype": "text/x-python",
   "name": "python",
   "nbconvert_exporter": "python",
   "pygments_lexer": "ipython3",
   "version": "3.9.13"
  }
 },
 "nbformat": 4,
 "nbformat_minor": 5
}
