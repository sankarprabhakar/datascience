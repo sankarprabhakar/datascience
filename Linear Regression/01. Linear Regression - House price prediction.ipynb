{
 "cells": [
  {
   "cell_type": "markdown",
   "id": "0494491b",
   "metadata": {},
   "source": [
    "### Simple Linear regression "
   ]
  },
  {
   "cell_type": "code",
   "execution_count": 24,
   "id": "1516d9db",
   "metadata": {},
   "outputs": [],
   "source": [
    "import numpy as np\n",
    "import pandas as pd\n",
    "import matplotlib.pyplot as plt\n",
    "from sklearn.linear_model import SGDRegressor\n",
    "from sklearn.preprocessing import StandardScaler"
   ]
  },
  {
   "cell_type": "markdown",
   "id": "a92f9d16",
   "metadata": {},
   "source": [
    "## Dataset \n",
    "Given the dataset of housing prices with 4 features : 'size(sqft)','bedrooms','floors','age' and the prices. Come up with a multiple variable linear regression model"
   ]
  },
  {
   "cell_type": "code",
   "execution_count": 18,
   "id": "13fbcf22",
   "metadata": {},
   "outputs": [],
   "source": [
    "#### Load dataset\n",
    "def load_data():\n",
    "    data = np.loadtxt(\"houses.txt\",delimiter=\",\")\n",
    "    #print(data)\n",
    "    X = data[:,:4]\n",
    "    #print(X)\n",
    "    Y = data[:,4]\n",
    "    #print(Y)\n",
    "    return X,Y"
   ]
  },
  {
   "cell_type": "code",
   "execution_count": 19,
   "id": "969e7fee",
   "metadata": {},
   "outputs": [
    {
     "name": "stdout",
     "output_type": "stream",
     "text": [
      "C:\\Users\\sanka\\OneDrive\\Desktop\\Workspace\\datascience\\Linear Regression\n",
      "['.ipynb_checkpoints', '01. Linear Regression - House price prediction.ipynb', 'houses.txt']\n"
     ]
    }
   ],
   "source": [
    "import os\n",
    "print(os.getcwd())\n",
    "print(os.listdir(\".\"))"
   ]
  },
  {
   "cell_type": "code",
   "execution_count": 21,
   "id": "deceed4b",
   "metadata": {},
   "outputs": [],
   "source": [
    "X_train,Y_train = load_data()\n",
    "X_features = ['size(sqft)','bedrooms','floors','age']"
   ]
  },
  {
   "cell_type": "code",
   "execution_count": 22,
   "id": "3591f202",
   "metadata": {},
   "outputs": [
    {
     "name": "stdout",
     "output_type": "stream",
     "text": [
      "[[9.520e+02 2.000e+00 1.000e+00 6.500e+01]\n",
      " [1.244e+03 3.000e+00 1.000e+00 6.400e+01]\n",
      " [1.947e+03 3.000e+00 2.000e+00 1.700e+01]\n",
      " [1.725e+03 3.000e+00 2.000e+00 4.200e+01]\n",
      " [1.959e+03 3.000e+00 2.000e+00 1.500e+01]\n",
      " [1.314e+03 2.000e+00 1.000e+00 1.400e+01]\n",
      " [8.640e+02 2.000e+00 1.000e+00 6.600e+01]\n",
      " [1.836e+03 3.000e+00 1.000e+00 1.700e+01]\n",
      " [1.026e+03 3.000e+00 1.000e+00 4.300e+01]\n",
      " [3.194e+03 4.000e+00 2.000e+00 8.700e+01]\n",
      " [7.880e+02 2.000e+00 1.000e+00 8.000e+01]\n",
      " [1.200e+03 2.000e+00 2.000e+00 1.700e+01]\n",
      " [1.557e+03 2.000e+00 1.000e+00 1.800e+01]\n",
      " [1.430e+03 3.000e+00 1.000e+00 2.000e+01]\n",
      " [1.220e+03 2.000e+00 1.000e+00 1.500e+01]\n",
      " [1.092e+03 2.000e+00 1.000e+00 6.400e+01]\n",
      " [8.480e+02 1.000e+00 1.000e+00 1.700e+01]\n",
      " [1.682e+03 3.000e+00 2.000e+00 2.300e+01]\n",
      " [1.768e+03 3.000e+00 2.000e+00 1.800e+01]\n",
      " [1.040e+03 3.000e+00 1.000e+00 4.400e+01]\n",
      " [1.652e+03 2.000e+00 1.000e+00 2.100e+01]\n",
      " [1.088e+03 2.000e+00 1.000e+00 3.500e+01]\n",
      " [1.316e+03 3.000e+00 1.000e+00 1.400e+01]\n",
      " [1.593e+03 0.000e+00 1.000e+00 2.000e+01]\n",
      " [9.720e+02 2.000e+00 1.000e+00 7.300e+01]\n",
      " [1.097e+03 3.000e+00 1.000e+00 3.700e+01]\n",
      " [1.004e+03 2.000e+00 1.000e+00 5.100e+01]\n",
      " [9.040e+02 3.000e+00 1.000e+00 5.500e+01]\n",
      " [1.694e+03 3.000e+00 1.000e+00 1.300e+01]\n",
      " [1.073e+03 2.000e+00 1.000e+00 1.000e+02]\n",
      " [1.419e+03 3.000e+00 2.000e+00 1.900e+01]\n",
      " [1.164e+03 3.000e+00 1.000e+00 5.200e+01]\n",
      " [1.935e+03 3.000e+00 2.000e+00 1.200e+01]\n",
      " [1.216e+03 2.000e+00 2.000e+00 7.400e+01]\n",
      " [2.482e+03 4.000e+00 2.000e+00 1.600e+01]\n",
      " [1.200e+03 2.000e+00 1.000e+00 1.800e+01]\n",
      " [1.840e+03 3.000e+00 2.000e+00 2.000e+01]\n",
      " [1.851e+03 3.000e+00 2.000e+00 5.700e+01]\n",
      " [1.660e+03 3.000e+00 2.000e+00 1.900e+01]\n",
      " [1.096e+03 2.000e+00 2.000e+00 9.700e+01]\n",
      " [1.775e+03 3.000e+00 2.000e+00 2.800e+01]\n",
      " [2.030e+03 4.000e+00 2.000e+00 4.500e+01]\n",
      " [1.784e+03 4.000e+00 2.000e+00 1.070e+02]\n",
      " [1.073e+03 2.000e+00 1.000e+00 1.000e+02]\n",
      " [1.552e+03 3.000e+00 1.000e+00 1.600e+01]\n",
      " [1.953e+03 3.000e+00 2.000e+00 1.600e+01]\n",
      " [1.224e+03 2.000e+00 2.000e+00 1.200e+01]\n",
      " [1.616e+03 3.000e+00 1.000e+00 1.600e+01]\n",
      " [8.160e+02 2.000e+00 1.000e+00 5.800e+01]\n",
      " [1.349e+03 3.000e+00 1.000e+00 2.100e+01]\n",
      " [1.571e+03 3.000e+00 1.000e+00 1.400e+01]\n",
      " [1.486e+03 3.000e+00 1.000e+00 5.700e+01]\n",
      " [1.506e+03 2.000e+00 1.000e+00 1.600e+01]\n",
      " [1.097e+03 3.000e+00 1.000e+00 2.700e+01]\n",
      " [1.764e+03 3.000e+00 2.000e+00 2.400e+01]\n",
      " [1.208e+03 2.000e+00 1.000e+00 1.400e+01]\n",
      " [1.470e+03 3.000e+00 2.000e+00 2.400e+01]\n",
      " [1.768e+03 3.000e+00 2.000e+00 8.400e+01]\n",
      " [1.654e+03 3.000e+00 1.000e+00 1.900e+01]\n",
      " [1.029e+03 3.000e+00 1.000e+00 6.000e+01]\n",
      " [1.120e+03 2.000e+00 2.000e+00 1.600e+01]\n",
      " [1.150e+03 3.000e+00 1.000e+00 6.200e+01]\n",
      " [8.160e+02 2.000e+00 1.000e+00 3.900e+01]\n",
      " [1.040e+03 3.000e+00 1.000e+00 2.500e+01]\n",
      " [1.392e+03 3.000e+00 1.000e+00 6.400e+01]\n",
      " [1.603e+03 3.000e+00 2.000e+00 2.900e+01]\n",
      " [1.215e+03 3.000e+00 1.000e+00 6.300e+01]\n",
      " [1.073e+03 2.000e+00 1.000e+00 1.000e+02]\n",
      " [2.599e+03 4.000e+00 2.000e+00 2.200e+01]\n",
      " [1.431e+03 3.000e+00 1.000e+00 5.900e+01]\n",
      " [2.090e+03 3.000e+00 2.000e+00 2.600e+01]\n",
      " [1.790e+03 4.000e+00 2.000e+00 4.900e+01]\n",
      " [1.484e+03 3.000e+00 2.000e+00 1.600e+01]\n",
      " [1.040e+03 3.000e+00 1.000e+00 2.500e+01]\n",
      " [1.431e+03 3.000e+00 1.000e+00 2.200e+01]\n",
      " [1.159e+03 3.000e+00 1.000e+00 5.300e+01]\n",
      " [1.547e+03 3.000e+00 2.000e+00 1.200e+01]\n",
      " [1.983e+03 3.000e+00 2.000e+00 2.200e+01]\n",
      " [1.056e+03 3.000e+00 1.000e+00 5.300e+01]\n",
      " [1.180e+03 2.000e+00 1.000e+00 9.900e+01]\n",
      " [1.358e+03 2.000e+00 1.000e+00 1.700e+01]\n",
      " [9.600e+02 3.000e+00 1.000e+00 5.100e+01]\n",
      " [1.456e+03 3.000e+00 2.000e+00 1.600e+01]\n",
      " [1.446e+03 3.000e+00 2.000e+00 2.500e+01]\n",
      " [1.208e+03 2.000e+00 1.000e+00 1.500e+01]\n",
      " [1.553e+03 3.000e+00 2.000e+00 1.600e+01]\n",
      " [8.820e+02 3.000e+00 1.000e+00 4.900e+01]\n",
      " [2.030e+03 4.000e+00 2.000e+00 4.500e+01]\n",
      " [1.040e+03 3.000e+00 1.000e+00 6.200e+01]\n",
      " [1.616e+03 3.000e+00 1.000e+00 1.600e+01]\n",
      " [8.030e+02 2.000e+00 1.000e+00 8.000e+01]\n",
      " [1.430e+03 3.000e+00 2.000e+00 2.100e+01]\n",
      " [1.656e+03 3.000e+00 1.000e+00 6.100e+01]\n",
      " [1.541e+03 3.000e+00 1.000e+00 1.600e+01]\n",
      " [9.480e+02 3.000e+00 1.000e+00 5.300e+01]\n",
      " [1.224e+03 2.000e+00 2.000e+00 1.200e+01]\n",
      " [1.432e+03 2.000e+00 1.000e+00 4.300e+01]\n",
      " [1.660e+03 3.000e+00 2.000e+00 1.900e+01]\n",
      " [1.212e+03 3.000e+00 1.000e+00 2.000e+01]\n",
      " [1.050e+03 2.000e+00 1.000e+00 6.500e+01]]\n"
     ]
    }
   ],
   "source": [
    "print(X_train)"
   ]
  },
  {
   "cell_type": "markdown",
   "id": "f2ac89d1",
   "metadata": {},
   "source": [
    "### Scaling the features"
   ]
  },
  {
   "cell_type": "code",
   "execution_count": 26,
   "id": "a6e456a0",
   "metadata": {},
   "outputs": [
    {
     "name": "stdout",
     "output_type": "stream",
     "text": [
      "peak to peak range of X = [2.406e+03 4.000e+00 1.000e+00 9.500e+01]\n",
      "peak to peak range of X = [5.83735704 6.12923357 2.06021411 3.68430905]\n"
     ]
    }
   ],
   "source": [
    "scalar = StandardScaler()\n",
    "X_norm = scalar.fit_transform(X_train)\n",
    "print(f\"peak to peak range of X = {np.ptp(X_train, axis=0)}\")\n",
    "print(f\"peak to peak range of X = {np.ptp(X_norm,axis=0)}\")"
   ]
  },
  {
   "cell_type": "markdown",
   "id": "a035497d",
   "metadata": {},
   "source": [
    "### Fitting the model"
   ]
  },
  {
   "cell_type": "code",
   "execution_count": 28,
   "id": "b68c0c81",
   "metadata": {},
   "outputs": [
    {
     "name": "stdout",
     "output_type": "stream",
     "text": [
      "Number of iteration = 119 value update = 11901.0\n"
     ]
    }
   ],
   "source": [
    "sgd = SGDRegressor()\n",
    "sgd.fit(X_norm, Y_train)\n",
    "print(f\"Number of iteration = {sgd.n_iter_} value update = {sgd.t_}\")"
   ]
  },
  {
   "cell_type": "code",
   "execution_count": 31,
   "id": "8aa19fba",
   "metadata": {},
   "outputs": [
    {
     "name": "stdout",
     "output_type": "stream",
     "text": [
      "Model parameters are w_norm = [110.10590355 -21.18768507 -32.35763667 -37.84020176] x_norm = [362.23983016] \n"
     ]
    }
   ],
   "source": [
    "### Parameters\n",
    "w_norm = sgd.coef_\n",
    "b_norm = sgd.intercept_\n",
    "print(f\"Model parameters are w_norm = {w_norm} x_norm = {b_norm} \")"
   ]
  },
  {
   "cell_type": "code",
   "execution_count": 33,
   "id": "b02291ad",
   "metadata": {},
   "outputs": [
    {
     "name": "stdout",
     "output_type": "stream",
     "text": [
      "predicted GSD == predicted np calculated = True\n"
     ]
    }
   ],
   "source": [
    "y_sgd_pred = sgd.predict(X_norm)\n",
    "\n",
    "y_calc = np.dot(X_norm, w_norm) + b_norm\n",
    "\n",
    "print (f\"predicted GSD == predicted np calculated = {(y_sgd_pred == y_calc).all()}\")"
   ]
  },
  {
   "cell_type": "code",
   "execution_count": 37,
   "id": "0d4b7c31",
   "metadata": {},
   "outputs": [
    {
     "ename": "AttributeError",
     "evalue": "'PathCollection' object has no attribute 'set_xlabel'",
     "output_type": "error",
     "traceback": [
      "\u001b[1;31m---------------------------------------------------------------------------\u001b[0m",
      "\u001b[1;31mAttributeError\u001b[0m                            Traceback (most recent call last)",
      "\u001b[1;32m~\\AppData\\Local\\Temp\\ipykernel_12120\\362652447.py\u001b[0m in \u001b[0;36m<module>\u001b[1;34m\u001b[0m\n\u001b[0;32m      2\u001b[0m \u001b[1;32mfor\u001b[0m \u001b[0mi\u001b[0m \u001b[1;32min\u001b[0m \u001b[0mrange\u001b[0m\u001b[1;33m(\u001b[0m\u001b[0mlen\u001b[0m\u001b[1;33m(\u001b[0m\u001b[0max\u001b[0m\u001b[1;33m)\u001b[0m\u001b[1;33m)\u001b[0m\u001b[1;33m:\u001b[0m\u001b[1;33m\u001b[0m\u001b[1;33m\u001b[0m\u001b[0m\n\u001b[0;32m      3\u001b[0m     \u001b[0max\u001b[0m\u001b[1;33m[\u001b[0m\u001b[0mi\u001b[0m\u001b[1;33m]\u001b[0m \u001b[1;33m=\u001b[0m \u001b[0max\u001b[0m\u001b[1;33m[\u001b[0m\u001b[0mi\u001b[0m\u001b[1;33m]\u001b[0m\u001b[1;33m.\u001b[0m\u001b[0mscatter\u001b[0m\u001b[1;33m(\u001b[0m\u001b[0mX_train\u001b[0m\u001b[1;33m[\u001b[0m\u001b[1;33m:\u001b[0m\u001b[1;33m,\u001b[0m\u001b[0mi\u001b[0m\u001b[1;33m]\u001b[0m\u001b[1;33m,\u001b[0m\u001b[0mY_train\u001b[0m\u001b[1;33m,\u001b[0m\u001b[0mlabel\u001b[0m\u001b[1;33m=\u001b[0m\u001b[1;34m\"Train\"\u001b[0m\u001b[1;33m)\u001b[0m\u001b[1;33m\u001b[0m\u001b[1;33m\u001b[0m\u001b[0m\n\u001b[1;32m----> 4\u001b[1;33m     \u001b[0max\u001b[0m\u001b[1;33m[\u001b[0m\u001b[0mi\u001b[0m\u001b[1;33m]\u001b[0m \u001b[1;33m=\u001b[0m \u001b[0max\u001b[0m\u001b[1;33m[\u001b[0m\u001b[0mi\u001b[0m\u001b[1;33m]\u001b[0m\u001b[1;33m.\u001b[0m\u001b[0mset_xlabel\u001b[0m\u001b[1;33m(\u001b[0m\u001b[0mX_features\u001b[0m\u001b[1;33m[\u001b[0m\u001b[0mi\u001b[0m\u001b[1;33m]\u001b[0m\u001b[1;33m)\u001b[0m\u001b[1;33m\u001b[0m\u001b[1;33m\u001b[0m\u001b[0m\n\u001b[0m",
      "\u001b[1;31mAttributeError\u001b[0m: 'PathCollection' object has no attribute 'set_xlabel'"
     ]
    },
    {
     "data": {
      "image/png": "[encoded data removed]",
      "text/plain": [
       "<Figure size 1200x400 with 4 Axes>"
      ]
     },
     "metadata": {},
     "output_type": "display_data"
    }
   ],
   "source": [
    "fig, ax = plt.subplots(1,4,figsize=(12,4))\n",
    "for i in range(len(ax)):\n",
    "    ax[i] = ax[i].scatter(X_train[:,i],Y_train,label=\"Train\")\n",
    "    ax[i] = ax[i].set_xlabel(X_features[i])"
   ]
  },
  {
   "cell_type": "code",
   "execution_count": null,
   "id": "0e081a7b",
   "metadata": {},
   "outputs": [],
   "source": []
  }
 ],
 "metadata": {
  "kernelspec": {
   "display_name": "Python 3 (ipykernel)",
   "language": "python",
   "name": "python3"
  },
  "language_info": {
   "codemirror_mode": {
    "name": "ipython",
    "version": 3
   },
   "file_extension": ".py",
   "mimetype": "text/x-python",
   "name": "python",
   "nbconvert_exporter": "python",
   "pygments_lexer": "ipython3",
   "version": "3.9.13"
  }
 },
 "nbformat": 4,
 "nbformat_minor": 5
}
