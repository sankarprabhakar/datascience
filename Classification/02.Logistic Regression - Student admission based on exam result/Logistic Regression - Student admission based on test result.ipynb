{
 "cells": [
  {
   "cell_type": "markdown",
   "id": "8cf3412a",
   "metadata": {},
   "source": [
    "## Problem statement\n",
    "\n",
    "Suppose that you are the administrator of a university department and you want to determine each applicant’s chance of admission based on their results on two exams. \n",
    "* You have historical data from previous applicants that you can use as a training set for logistic regression. \n",
    "* For each training example, you have the applicant’s scores on two exams and the admissions decision. \n",
    "* Your task is to build a classification model that estimates an applicant’s probability of admission based on the scores from those two exams. "
   ]
  },
  {
   "cell_type": "code",
   "execution_count": 2,
   "id": "b5da3e63",
   "metadata": {},
   "outputs": [],
   "source": [
    "import numpy as np\n",
    "import pandas as pd"
   ]
  },
  {
   "cell_type": "code",
   "execution_count": 9,
   "id": "766fb46a",
   "metadata": {},
   "outputs": [
    {
     "data": {
      "text/plain": [
       "(array([[34.62365962, 78.02469282],\n",
       "        [30.28671077, 43.89499752],\n",
       "        [35.84740877, 72.90219803],\n",
       "        [60.18259939, 86.3085521 ],\n",
       "        [79.03273605, 75.34437644],\n",
       "        [45.08327748, 56.31637178],\n",
       "        [61.10666454, 96.51142588],\n",
       "        [75.02474557, 46.55401354],\n",
       "        [76.0987867 , 87.42056972],\n",
       "        [84.43281996, 43.53339331],\n",
       "        [95.86155507, 38.22527806],\n",
       "        [75.01365839, 30.60326323],\n",
       "        [82.30705337, 76.4819633 ],\n",
       "        [69.36458876, 97.71869196],\n",
       "        [39.53833914, 76.03681085],\n",
       "        [53.97105215, 89.20735014],\n",
       "        [69.07014406, 52.74046973],\n",
       "        [67.94685548, 46.67857411],\n",
       "        [70.66150955, 92.92713789],\n",
       "        [76.97878373, 47.57596365],\n",
       "        [67.37202755, 42.83843832],\n",
       "        [89.67677575, 65.79936593],\n",
       "        [50.53478829, 48.85581153],\n",
       "        [34.21206098, 44.2095286 ],\n",
       "        [77.92409145, 68.97235999],\n",
       "        [62.27101367, 69.95445795],\n",
       "        [80.19018075, 44.82162893],\n",
       "        [93.1143888 , 38.80067034],\n",
       "        [61.83020602, 50.25610789],\n",
       "        [38.7858038 , 64.99568096],\n",
       "        [61.37928945, 72.80788731],\n",
       "        [85.40451939, 57.05198398],\n",
       "        [52.10797973, 63.12762377],\n",
       "        [52.04540477, 69.43286012],\n",
       "        [40.23689374, 71.16774802],\n",
       "        [54.63510555, 52.21388588],\n",
       "        [33.91550011, 98.86943574],\n",
       "        [64.17698887, 80.90806059],\n",
       "        [74.78925296, 41.57341523],\n",
       "        [34.18364003, 75.23772034],\n",
       "        [83.90239366, 56.30804622],\n",
       "        [51.54772027, 46.85629026],\n",
       "        [94.44336777, 65.56892161],\n",
       "        [82.36875376, 40.61825516],\n",
       "        [51.04775177, 45.82270146],\n",
       "        [62.22267576, 52.06099195],\n",
       "        [77.19303493, 70.4582    ],\n",
       "        [97.77159928, 86.72782233],\n",
       "        [62.0730638 , 96.76882412],\n",
       "        [91.5649745 , 88.69629255],\n",
       "        [79.94481794, 74.16311935],\n",
       "        [99.27252693, 60.999031  ],\n",
       "        [90.54671411, 43.39060181],\n",
       "        [34.52451385, 60.39634246],\n",
       "        [50.28649612, 49.80453881],\n",
       "        [49.58667722, 59.80895099],\n",
       "        [97.64563396, 68.86157272],\n",
       "        [32.57720017, 95.59854761],\n",
       "        [74.24869137, 69.82457123],\n",
       "        [71.79646206, 78.45356225],\n",
       "        [75.39561147, 85.75993667],\n",
       "        [35.28611282, 47.02051395],\n",
       "        [56.2538175 , 39.26147251],\n",
       "        [30.05882245, 49.59297387],\n",
       "        [44.66826172, 66.45008615],\n",
       "        [66.56089447, 41.09209808],\n",
       "        [40.45755098, 97.53518549],\n",
       "        [49.07256322, 51.88321182],\n",
       "        [80.27957401, 92.11606081],\n",
       "        [66.74671857, 60.99139403],\n",
       "        [32.72283304, 43.30717306],\n",
       "        [64.03932042, 78.03168802],\n",
       "        [72.34649423, 96.22759297],\n",
       "        [60.45788574, 73.0949981 ],\n",
       "        [58.84095622, 75.85844831],\n",
       "        [99.8278578 , 72.36925193],\n",
       "        [47.26426911, 88.475865  ],\n",
       "        [50.4581598 , 75.80985953],\n",
       "        [60.45555629, 42.50840944],\n",
       "        [82.22666158, 42.71987854],\n",
       "        [88.91389642, 69.8037889 ],\n",
       "        [94.83450672, 45.6943068 ],\n",
       "        [67.31925747, 66.58935318],\n",
       "        [57.23870632, 59.51428198],\n",
       "        [80.366756  , 90.9601479 ],\n",
       "        [68.46852179, 85.5943071 ],\n",
       "        [42.07545454, 78.844786  ],\n",
       "        [75.47770201, 90.424539  ],\n",
       "        [78.63542435, 96.64742717],\n",
       "        [52.34800399, 60.76950526],\n",
       "        [94.09433113, 77.15910509],\n",
       "        [90.44855097, 87.50879176],\n",
       "        [55.48216114, 35.57070347],\n",
       "        [74.49269242, 84.84513685],\n",
       "        [89.84580671, 45.35828361],\n",
       "        [83.48916274, 48.3802858 ],\n",
       "        [42.26170081, 87.10385094],\n",
       "        [99.31500881, 68.77540947],\n",
       "        [55.34001756, 64.93193801],\n",
       "        [74.775893  , 89.5298129 ]]),\n",
       " array([0., 0., 0., 1., 1., 0., 1., 1., 1., 1., 0., 0., 1., 1., 0., 1., 1.,\n",
       "        0., 1., 1., 0., 1., 0., 0., 1., 1., 1., 0., 0., 0., 1., 1., 0., 1.,\n",
       "        0., 0., 0., 1., 0., 0., 1., 0., 1., 0., 0., 0., 1., 1., 1., 1., 1.,\n",
       "        1., 1., 0., 0., 0., 1., 0., 1., 1., 1., 0., 0., 0., 0., 0., 1., 0.,\n",
       "        1., 1., 0., 1., 1., 1., 1., 1., 1., 1., 0., 0., 1., 1., 1., 1., 1.,\n",
       "        1., 0., 1., 1., 0., 1., 1., 0., 1., 1., 1., 1., 1., 1., 1.]))"
      ]
     },
     "execution_count": 9,
     "metadata": {},
     "output_type": "execute_result"
    }
   ],
   "source": [
    "def load_data():\n",
    "    data = np.loadtxt(\"student_admission_data.txt\",delimiter=',')\n",
    "   # print(data)\n",
    "    X = data[:,0:2]\n",
    "    Y= data[:,-1]\n",
    "    #print(X)\n",
    "    #print(Y)\n",
    "    return X,Y"
   ]
  },
  {
   "cell_type": "code",
   "execution_count": 14,
   "id": "3beca152",
   "metadata": {},
   "outputs": [],
   "source": [
    "X, Y = load_data()\n"
   ]
  },
  {
   "cell_type": "code",
   "execution_count": 18,
   "id": "29978982",
   "metadata": {},
   "outputs": [],
   "source": [
    "## Split the total set to training and test set\n",
    "from sklearn.model_selection import train_test_split\n",
    "\n",
    "X_train, X_test, Y_train, Y_test = train_test_split(X,Y, random_state=0, test_size=1/3)"
   ]
  },
  {
   "cell_type": "code",
   "execution_count": 19,
   "id": "cdf69635",
   "metadata": {},
   "outputs": [
    {
     "data": {
      "text/plain": [
       "LogisticRegression()"
      ]
     },
     "execution_count": 19,
     "metadata": {},
     "output_type": "execute_result"
    }
   ],
   "source": [
    "from sklearn.linear_model import LogisticRegression\n",
    "\n",
    "log_reg = LogisticRegression()\n",
    "log_reg.fit(X_train,Y_train)"
   ]
  },
  {
   "cell_type": "code",
   "execution_count": 20,
   "id": "41474d23",
   "metadata": {},
   "outputs": [
    {
     "name": "stdout",
     "output_type": "stream",
     "text": [
      "[0. 0. 0. 0. 1. 1. 0. 1. 0. 1. 0. 0. 0. 1. 0. 1. 0. 1. 0. 1. 0. 0. 1. 1.\n",
      " 0. 1. 1. 1. 1. 1. 1. 1. 1. 1.]\n"
     ]
    }
   ],
   "source": [
    "## Pass the X_test and get the results\n",
    "\n",
    "print(log_reg.predict(X_test))"
   ]
  },
  {
   "cell_type": "code",
   "execution_count": 21,
   "id": "c1cb9ad9",
   "metadata": {},
   "outputs": [
    {
     "name": "stdout",
     "output_type": "stream",
     "text": [
      "0.8823529411764706\n"
     ]
    }
   ],
   "source": [
    "## Get the scrore\n",
    "\n",
    "print(log_reg.score(X_test, Y_test))"
   ]
  },
  {
   "cell_type": "code",
   "execution_count": null,
   "id": "a6c2a39f",
   "metadata": {},
   "outputs": [],
   "source": []
  },
  {
   "cell_type": "code",
   "execution_count": null,
   "id": "a8735596",
   "metadata": {},
   "outputs": [],
   "source": []
  },
  {
   "cell_type": "code",
   "execution_count": null,
   "id": "81713749",
   "metadata": {},
   "outputs": [],
   "source": []
  }
 ],
 "metadata": {
  "kernelspec": {
   "display_name": "Python 3 (ipykernel)",
   "language": "python",
   "name": "python3"
  },
  "language_info": {
   "codemirror_mode": {
    "name": "ipython",
    "version": 3
   },
   "file_extension": ".py",
   "mimetype": "text/x-python",
   "name": "python",
   "nbconvert_exporter": "python",
   "pygments_lexer": "ipython3",
   "version": "3.9.13"
  }
 },
 "nbformat": 4,
 "nbformat_minor": 5
}
